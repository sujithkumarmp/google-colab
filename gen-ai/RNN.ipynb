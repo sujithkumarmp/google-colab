{
  "nbformat": 4,
  "nbformat_minor": 0,
  "metadata": {
    "colab": {
      "provenance": [],
      "authorship_tag": "ABX9TyOqlyReD233D3T7J6xGfGWj",
      "include_colab_link": true
    },
    "kernelspec": {
      "name": "python3",
      "display_name": "Python 3"
    },
    "language_info": {
      "name": "python"
    }
  },
  "cells": [
    {
      "cell_type": "markdown",
      "metadata": {
        "id": "view-in-github",
        "colab_type": "text"
      },
      "source": [
        "<a href=\"https://colab.research.google.com/github/sujithkumarmp/google-colab/blob/main/gen-ai/RNN.ipynb\" target=\"_parent\"><img src=\"https://colab.research.google.com/assets/colab-badge.svg\" alt=\"Open In Colab\"/></a>"
      ]
    },
    {
      "cell_type": "code",
      "source": [
        "import torch\n",
        "import torch.nn as nn\n",
        "import torch.optim as optim\n",
        "\n",
        "# Define the RNN model\n",
        "class SimpleRNN(nn.Module):\n",
        "    def __init__(self, input_size, hidden_size, output_size):\n",
        "        super(SimpleRNN, self).__init__()\n",
        "        self.hidden_size = hidden_size\n",
        "        self.rnn = nn.RNN(input_size, hidden_size, batch_first=True)\n",
        "        self.fc = nn.Linear(hidden_size, output_size)\n",
        "\n",
        "    def forward(self, x):\n",
        "        out, _ = self.rnn(x)  # RNN output\n",
        "        out = self.fc(out[:, -1, :])  # Fully connected layer on the last time step\n",
        "        return out\n",
        "\n",
        "# Hyperparameters\n",
        "input_size = 1\n",
        "hidden_size = 16\n",
        "output_size = 2  # Binary classification\n",
        "sequence_length = 10\n",
        "batch_size = 32\n",
        "num_epochs = 10\n",
        "learning_rate = 0.01\n",
        "\n",
        "# Generate synthetic data\n",
        "x_train = torch.rand(batch_size, sequence_length, input_size)\n",
        "y_train = torch.randint(0, 2, (batch_size,))\n",
        "\n",
        "# Model, loss, and optimizer\n",
        "model = SimpleRNN(input_size, hidden_size, output_size)\n",
        "criterion = nn.CrossEntropyLoss()\n",
        "optimizer = optim.Adam(model.parameters(), lr=learning_rate)\n",
        "\n",
        "# Training loop\n",
        "for epoch in range(num_epochs):\n",
        "    outputs = model(x_train)\n",
        "    loss = criterion(outputs, y_train)\n",
        "\n",
        "    optimizer.zero_grad()\n",
        "    loss.backward()\n",
        "    optimizer.step()\n",
        "\n",
        "    print(f\"Epoch [{epoch+1}/{num_epochs}], Loss: {loss.item():.4f}\")\n",
        "\n",
        "# Test the model\n",
        "with torch.no_grad():\n",
        "    test_input = torch.rand(1, sequence_length, input_size)\n",
        "    prediction = model(test_input)\n",
        "    print(\"Predicted class:\", torch.argmax(prediction, dim=1).item())\n"
      ],
      "metadata": {
        "colab": {
          "base_uri": "https://localhost:8080/"
        },
        "id": "MQ4Y6e7Sjrgk",
        "outputId": "7dd99733-9f86-41ac-9f9c-0f6d3ed85565"
      },
      "execution_count": 15,
      "outputs": [
        {
          "output_type": "stream",
          "name": "stdout",
          "text": [
            "Epoch [1/10], Loss: 0.6897\n",
            "Epoch [2/10], Loss: 0.6889\n",
            "Epoch [3/10], Loss: 0.6819\n",
            "Epoch [4/10], Loss: 0.6798\n",
            "Epoch [5/10], Loss: 0.6761\n",
            "Epoch [6/10], Loss: 0.6712\n",
            "Epoch [7/10], Loss: 0.6676\n",
            "Epoch [8/10], Loss: 0.6642\n",
            "Epoch [9/10], Loss: 0.6593\n",
            "Epoch [10/10], Loss: 0.6537\n",
            "Predicted class: 1\n"
          ]
        }
      ]
    }
  ]
}