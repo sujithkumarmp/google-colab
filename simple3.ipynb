{
  "nbformat": 4,
  "nbformat_minor": 0,
  "metadata": {
    "colab": {
      "provenance": [],
      "authorship_tag": "ABX9TyOg/Wlsvn57ojiSeEOH2nzI",
      "include_colab_link": true
    },
    "kernelspec": {
      "name": "python3",
      "display_name": "Python 3"
    },
    "language_info": {
      "name": "python"
    }
  },
  "cells": [
    {
      "cell_type": "markdown",
      "metadata": {
        "id": "view-in-github",
        "colab_type": "text"
      },
      "source": [
        "<a href=\"https://colab.research.google.com/github/sujithkumarmp/google-colab/blob/main/simple3.ipynb\" target=\"_parent\"><img src=\"https://colab.research.google.com/assets/colab-badge.svg\" alt=\"Open In Colab\"/></a>"
      ]
    },
    {
      "cell_type": "code",
      "execution_count": 13,
      "metadata": {
        "colab": {
          "base_uri": "https://localhost:8080/"
        },
        "id": "U7AlySoIyk3q",
        "outputId": "28545b78-7759-4c75-c17b-cb7be1e81533"
      },
      "outputs": [
        {
          "output_type": "stream",
          "name": "stdout",
          "text": [
            "Derivative of the function: 3*x**2 + 4*x - 5\n",
            "Indefinite Integral of the function: x**4/4 + 2*x**3/3 - 5*x**2/2 + 7*x\n",
            "Derivative of the trigonometric function: -sin(x) + cos(x)\n",
            "Indefinite Integral of the trigonometric function: sin(x) - cos(x)\n"
          ]
        }
      ],
      "source": [
        "from sympy import symbols, diff, integrate, sin, cos\n",
        "\n",
        "# Define the variable and function\n",
        "x = symbols('x')  # Symbolic variable\n",
        "function = x**3 + 2*x**2 - 5*x + 7  # Example function\n",
        "\n",
        "# Differentiation\n",
        "derivative = diff(function, x)\n",
        "print(f\"Derivative of the function: {derivative}\")\n",
        "\n",
        "# Integration\n",
        "integral = integrate(function, x)\n",
        "print(f\"Indefinite Integral of the function: {integral}\")\n",
        "\n",
        "# Example with trigonometric functions\n",
        "trig_function = sin(x) + cos(x)\n",
        "trig_derivative = diff(trig_function, x)\n",
        "trig_integral = integrate(trig_function, x)\n",
        "\n",
        "print(f\"Derivative of the trigonometric function: {trig_derivative}\")\n",
        "print(f\"Indefinite Integral of the trigonometric function: {trig_integral}\")\n"
      ]
    }
  ]
}